{
 "cells": [
  {
   "cell_type": "code",
   "execution_count": 75,
   "metadata": {
    "collapsed": true
   },
   "outputs": [],
   "source": [
    "import pandas as pd"
   ]
  },
  {
   "cell_type": "code",
   "execution_count": 76,
   "metadata": {},
   "outputs": [
    {
     "name": "stdout",
     "output_type": "stream",
     "text": [
      "              Rooms         Price      Distance      Postcode      Bedroom2  \\\n",
      "count  17407.000000  1.352500e+04  17407.000000  17407.000000  13625.000000   \n",
      "mean       2.934624  1.071537e+06      9.378962   3103.327742      2.887193   \n",
      "std        0.983128  6.553000e+05      4.897268     76.005061      1.010500   \n",
      "min        1.000000  8.500000e+04      0.000000   3000.000000      0.000000   \n",
      "25%        2.000000  6.400000e+05      5.900000   3046.000000      2.000000   \n",
      "50%        3.000000  8.910000e+05      9.200000   3101.000000      3.000000   \n",
      "75%        4.000000  1.321000e+06     12.000000   3147.000000      3.000000   \n",
      "max       12.000000  8.000000e+06     47.400000   3978.000000     30.000000   \n",
      "\n",
      "           Bathroom           Car      Landsize  BuildingArea    YearBuilt  \\\n",
      "count  13625.000000  13625.000000  13603.000000   7323.000000  8429.000000   \n",
      "mean       1.545688      1.566826    497.656546    149.330926  1961.673152   \n",
      "std        0.716583      0.968356   1361.160059    145.204928    38.633785   \n",
      "min        0.000000      0.000000      0.000000      0.000000  1196.000000   \n",
      "25%        1.000000      1.000000    158.000000     92.000000  1930.000000   \n",
      "50%        1.000000      1.000000    385.000000    127.000000  1966.000000   \n",
      "75%        2.000000      2.000000    643.000000    179.000000  1998.000000   \n",
      "max       12.000000     26.000000  76000.000000   6791.000000  2106.000000   \n",
      "\n",
      "          Lattitude    Longtitude  Propertycount  \n",
      "count  13737.000000  13737.000000   17407.000000  \n",
      "mean     -37.812157    144.995283    7486.500603  \n",
      "std        0.068399      0.087676    4410.324671  \n",
      "min      -38.182550    144.431620     389.000000  \n",
      "25%      -37.856000    144.941200    4442.000000  \n",
      "50%      -37.809400    145.000200    6567.000000  \n",
      "75%      -37.763400    145.052250   10331.000000  \n",
      "max      -37.414950    145.526350   21650.000000  \n"
     ]
    }
   ],
   "source": [
    "# save filepath to variable for easier access\n",
    "melbourne_file_path = 'C:/Users/ParsaG/Desktop/Learn/Portfolio/Melbourne Housing/Melbourne_housing_extra_data.csv/Melbourne_housing_extra_data.csv'\n",
    "# read the data and store data in DataFrame titled melbourne_data\n",
    "melbourne_data = pd.read_csv(melbourne_file_path) \n",
    "# print a summary of the data in Melbourne data\n",
    "print(melbourne_data.describe())"
   ]
  },
  {
   "cell_type": "code",
   "execution_count": 77,
   "metadata": {},
   "outputs": [
    {
     "name": "stdout",
     "output_type": "stream",
     "text": [
      "Index(['Suburb', 'Address', 'Rooms', 'Type', 'Price', 'Method', 'SellerG',\n",
      "       'Date', 'Distance', 'Postcode', 'Bedroom2', 'Bathroom', 'Car',\n",
      "       'Landsize', 'BuildingArea', 'YearBuilt', 'CouncilArea', 'Lattitude',\n",
      "       'Longtitude', 'Regionname', 'Propertycount'],\n",
      "      dtype='object')\n"
     ]
    }
   ],
   "source": [
    "# print the names of the columns in melbourne_data here\n",
    "print(melbourne_data.columns)"
   ]
  },
  {
   "cell_type": "code",
   "execution_count": 78,
   "metadata": {},
   "outputs": [
    {
     "name": "stdout",
     "output_type": "stream",
     "text": [
      "0          NaN\n",
      "1    1480000.0\n",
      "2    1035000.0\n",
      "3          NaN\n",
      "4    1465000.0\n",
      "Name: Price, dtype: float64\n"
     ]
    }
   ],
   "source": [
    "# store the series of prices separately as melbourne_price_data.\n",
    "melbourne_price_data = melbourne_data.Price\n",
    "# the head command returns the top few lines of data.\n",
    "print(melbourne_price_data.head())"
   ]
  },
  {
   "cell_type": "code",
   "execution_count": 79,
   "metadata": {
    "collapsed": true
   },
   "outputs": [],
   "source": [
    "filtered_melbourne_data = melbourne_data.dropna(axis=0)"
   ]
  },
  {
   "cell_type": "code",
   "execution_count": 80,
   "metadata": {},
   "outputs": [
    {
     "name": "stdout",
     "output_type": "stream",
     "text": [
      "           Landsize  BuildingArea\n",
      "count  13603.000000   7323.000000\n",
      "mean     497.656546    149.330926\n",
      "std     1361.160059    145.204928\n",
      "min        0.000000      0.000000\n",
      "25%      158.000000     92.000000\n",
      "50%      385.000000    127.000000\n",
      "75%      643.000000    179.000000\n",
      "max    76000.000000   6791.000000\n"
     ]
    }
   ],
   "source": [
    "columns_of_interest = ['Landsize', 'BuildingArea']\n",
    "two_columns_of_data = melbourne_data[columns_of_interest]\n",
    "print(two_columns_of_data.describe())"
   ]
  },
  {
   "cell_type": "code",
   "execution_count": 81,
   "metadata": {
    "collapsed": true
   },
   "outputs": [],
   "source": [
    "# Target\n",
    "melbourne_target = filtered_melbourne_data.Price"
   ]
  },
  {
   "cell_type": "code",
   "execution_count": 82,
   "metadata": {
    "collapsed": true
   },
   "outputs": [],
   "source": [
    "# Choosing Predictors\n",
    "melbourne_predictors = ['Rooms', 'Bathroom', 'Landsize', 'BuildingArea', \n",
    "                        'YearBuilt', 'Lattitude', 'Longtitude']\n",
    "melbourne_predictors_data = filtered_melbourne_data[melbourne_predictors]"
   ]
  },
  {
   "cell_type": "code",
   "execution_count": 83,
   "metadata": {},
   "outputs": [
    {
     "data": {
      "text/plain": [
       "DecisionTreeRegressor(criterion='mse', max_depth=None, max_features=None,\n",
       "           max_leaf_nodes=None, min_impurity_split=1e-07,\n",
       "           min_samples_leaf=1, min_samples_split=2,\n",
       "           min_weight_fraction_leaf=0.0, presort=False, random_state=None,\n",
       "           splitter='best')"
      ]
     },
     "execution_count": 83,
     "metadata": {},
     "output_type": "execute_result"
    }
   ],
   "source": [
    "# Building the model\n",
    "# split the data\n",
    "from sklearn.model_selection import train_test_split\n",
    "melb_predictors_train, melb_predictors_val, melb_targ_train, melb_targ_val = train_test_split(melbourne_predictors_data, \n",
    "                                                                                              filtered_melbourne_data.Price,\n",
    "                                                                                              random_state = 0)\n",
    "\n",
    "\n",
    "from sklearn.tree import DecisionTreeRegressor\n",
    "\n",
    "# Define model\n",
    "\n",
    "melbourne_model = DecisionTreeRegressor()\n",
    "\n",
    "# Fit model\n",
    "melbourne_model.fit(melb_predictors_train, melb_targ_train)"
   ]
  },
  {
   "cell_type": "code",
   "execution_count": 84,
   "metadata": {
    "collapsed": true
   },
   "outputs": [],
   "source": [
    "# Predict\n",
    "melb_val_predictions = melbourne_model.predict(melb_predictors_val)"
   ]
  },
  {
   "cell_type": "code",
   "execution_count": 85,
   "metadata": {},
   "outputs": [
    {
     "name": "stdout",
     "output_type": "stream",
     "text": [
      "259106.369985\n"
     ]
    }
   ],
   "source": [
    "# The calculation of MAE\n",
    "\n",
    "from sklearn.metrics import mean_absolute_error\n",
    "\n",
    "print(mean_absolute_error(melb_targ_val, melb_val_predictions))"
   ]
  },
  {
   "cell_type": "code",
   "execution_count": 88,
   "metadata": {
    "collapsed": true
   },
   "outputs": [],
   "source": [
    "def get_mae(max_leaf_nodes, melb_predictors_train, melb_predictors_val, melb_targ_train, melb_targ_val):\n",
    "    model = DecisionTreeRegressor(max_leaf_nodes=max_leaf_nodes, random_state=0)\n",
    "    model.fit(melb_predictors_train, melb_targ_train)\n",
    "    preds_val = model.predict(melb_predictors_val)\n",
    "    mae = mean_absolute_error(melb_targ_val, preds_val)\n",
    "    return(mae)"
   ]
  },
  {
   "cell_type": "code",
   "execution_count": 89,
   "metadata": {},
   "outputs": [
    {
     "name": "stdout",
     "output_type": "stream",
     "text": [
      "Max leaf nodes: 5  \t\t Mean Absolute Error:  363942\n",
      "Max leaf nodes: 50  \t\t Mean Absolute Error:  268468\n",
      "Max leaf nodes: 500  \t\t Mean Absolute Error:  250418\n",
      "Max leaf nodes: 5000  \t\t Mean Absolute Error:  256058\n"
     ]
    }
   ],
   "source": [
    "# compare MAE with differing values of max_leaf_nodes\n",
    "for max_leaf_nodes in [5, 50, 500, 5000]:\n",
    "    my_mae = get_mae(max_leaf_nodes, melb_predictors_train, melb_predictors_val, melb_targ_train, melb_targ_val)\n",
    "    print(\"Max leaf nodes: %d  \\t\\t Mean Absolute Error:  %d\" %(max_leaf_nodes, my_mae))"
   ]
  },
  {
   "cell_type": "code",
   "execution_count": 90,
   "metadata": {},
   "outputs": [
    {
     "name": "stdout",
     "output_type": "stream",
     "text": [
      "194603.496756\n"
     ]
    }
   ],
   "source": [
    "# Random Forest Model\n",
    "\n",
    "from sklearn.ensemble import RandomForestRegressor\n",
    "\n",
    "melb_forest_model = RandomForestRegressor()\n",
    "melb_forest_model.fit(melb_predictors_train, melb_targ_train)\n",
    "melb_preds = melb_forest_model.predict(melb_predictors_val)\n",
    "print(mean_absolute_error(melb_targ_val, melb_preds))"
   ]
  }
 ],
 "metadata": {
  "kernelspec": {
   "display_name": "Python 3",
   "language": "python",
   "name": "python3"
  },
  "language_info": {
   "codemirror_mode": {
    "name": "ipython",
    "version": 3
   },
   "file_extension": ".py",
   "mimetype": "text/x-python",
   "name": "python",
   "nbconvert_exporter": "python",
   "pygments_lexer": "ipython3",
   "version": "3.6.5"
  }
 },
 "nbformat": 4,
 "nbformat_minor": 2
}
